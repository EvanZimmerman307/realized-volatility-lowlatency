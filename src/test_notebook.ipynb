{
 "cells": [
  {
   "cell_type": "markdown",
   "id": "b186453e",
   "metadata": {},
   "source": [
    "## Test out the DataLoader"
   ]
  },
  {
   "cell_type": "code",
   "execution_count": 1,
   "id": "b141f5ef",
   "metadata": {},
   "outputs": [],
   "source": [
    "import polars as pl\n",
    "from features.DataLoader import DataLoader"
   ]
  },
  {
   "cell_type": "code",
   "execution_count": 2,
   "id": "f743c36c",
   "metadata": {},
   "outputs": [],
   "source": [
    "data_path = \"../data/raw\"\n",
    "time_id = 5\n",
    "book_example = DataLoader.load_data_for_time_id(f'{data_path}/book_train.parquet/stock_id=0', time_id)\n",
    "trade_example =  DataLoader.load_data_for_time_id(f'{data_path}/trade_train.parquet/stock_id=0', time_id)\n"
   ]
  },
  {
   "cell_type": "code",
   "execution_count": 3,
   "id": "9434eddc",
   "metadata": {},
   "outputs": [
    {
     "data": {
      "text/html": [
       "<div><style>\n",
       ".dataframe > thead > tr,\n",
       ".dataframe > tbody > tr {\n",
       "  text-align: right;\n",
       "  white-space: pre-wrap;\n",
       "}\n",
       "</style>\n",
       "<small>shape: (5, 10)</small><table border=\"1\" class=\"dataframe\"><thead><tr><th>time_id</th><th>seconds_in_bucket</th><th>bid_price1</th><th>ask_price1</th><th>bid_price2</th><th>ask_price2</th><th>bid_size1</th><th>ask_size1</th><th>bid_size2</th><th>ask_size2</th></tr><tr><td>i16</td><td>i16</td><td>f32</td><td>f32</td><td>f32</td><td>f32</td><td>i32</td><td>i32</td><td>i32</td><td>i32</td></tr></thead><tbody><tr><td>5</td><td>0</td><td>1.001422</td><td>1.002301</td><td>1.00137</td><td>1.002353</td><td>3</td><td>226</td><td>2</td><td>100</td></tr><tr><td>5</td><td>1</td><td>1.001422</td><td>1.002301</td><td>1.00137</td><td>1.002353</td><td>3</td><td>100</td><td>2</td><td>100</td></tr><tr><td>5</td><td>5</td><td>1.001422</td><td>1.002301</td><td>1.00137</td><td>1.002405</td><td>3</td><td>100</td><td>2</td><td>100</td></tr><tr><td>5</td><td>6</td><td>1.001422</td><td>1.002301</td><td>1.00137</td><td>1.002405</td><td>3</td><td>126</td><td>2</td><td>100</td></tr><tr><td>5</td><td>7</td><td>1.001422</td><td>1.002301</td><td>1.00137</td><td>1.002405</td><td>3</td><td>126</td><td>2</td><td>100</td></tr></tbody></table></div>"
      ],
      "text/plain": [
       "shape: (5, 10)\n",
       "┌─────────┬────────────┬───────────┬───────────┬───┬───────────┬───────────┬───────────┬───────────┐\n",
       "│ time_id ┆ seconds_in ┆ bid_price ┆ ask_price ┆ … ┆ bid_size1 ┆ ask_size1 ┆ bid_size2 ┆ ask_size2 │\n",
       "│ ---     ┆ _bucket    ┆ 1         ┆ 1         ┆   ┆ ---       ┆ ---       ┆ ---       ┆ ---       │\n",
       "│ i16     ┆ ---        ┆ ---       ┆ ---       ┆   ┆ i32       ┆ i32       ┆ i32       ┆ i32       │\n",
       "│         ┆ i16        ┆ f32       ┆ f32       ┆   ┆           ┆           ┆           ┆           │\n",
       "╞═════════╪════════════╪═══════════╪═══════════╪═══╪═══════════╪═══════════╪═══════════╪═══════════╡\n",
       "│ 5       ┆ 0          ┆ 1.001422  ┆ 1.002301  ┆ … ┆ 3         ┆ 226       ┆ 2         ┆ 100       │\n",
       "│ 5       ┆ 1          ┆ 1.001422  ┆ 1.002301  ┆ … ┆ 3         ┆ 100       ┆ 2         ┆ 100       │\n",
       "│ 5       ┆ 5          ┆ 1.001422  ┆ 1.002301  ┆ … ┆ 3         ┆ 100       ┆ 2         ┆ 100       │\n",
       "│ 5       ┆ 6          ┆ 1.001422  ┆ 1.002301  ┆ … ┆ 3         ┆ 126       ┆ 2         ┆ 100       │\n",
       "│ 5       ┆ 7          ┆ 1.001422  ┆ 1.002301  ┆ … ┆ 3         ┆ 126       ┆ 2         ┆ 100       │\n",
       "└─────────┴────────────┴───────────┴───────────┴───┴───────────┴───────────┴───────────┴───────────┘"
      ]
     },
     "execution_count": 3,
     "metadata": {},
     "output_type": "execute_result"
    }
   ],
   "source": [
    "book_example.head()"
   ]
  },
  {
   "cell_type": "code",
   "execution_count": 4,
   "id": "74d2a46f",
   "metadata": {},
   "outputs": [
    {
     "data": {
      "text/html": [
       "<div><style>\n",
       ".dataframe > thead > tr,\n",
       ".dataframe > tbody > tr {\n",
       "  text-align: right;\n",
       "  white-space: pre-wrap;\n",
       "}\n",
       "</style>\n",
       "<small>shape: (5, 5)</small><table border=\"1\" class=\"dataframe\"><thead><tr><th>time_id</th><th>seconds_in_bucket</th><th>price</th><th>size</th><th>order_count</th></tr><tr><td>i16</td><td>i16</td><td>f32</td><td>i32</td><td>i16</td></tr></thead><tbody><tr><td>5</td><td>21</td><td>1.002301</td><td>326</td><td>12</td></tr><tr><td>5</td><td>46</td><td>1.002778</td><td>128</td><td>4</td></tr><tr><td>5</td><td>50</td><td>1.002818</td><td>55</td><td>1</td></tr><tr><td>5</td><td>57</td><td>1.003155</td><td>121</td><td>5</td></tr><tr><td>5</td><td>68</td><td>1.003646</td><td>4</td><td>1</td></tr></tbody></table></div>"
      ],
      "text/plain": [
       "shape: (5, 5)\n",
       "┌─────────┬───────────────────┬──────────┬──────┬─────────────┐\n",
       "│ time_id ┆ seconds_in_bucket ┆ price    ┆ size ┆ order_count │\n",
       "│ ---     ┆ ---               ┆ ---      ┆ ---  ┆ ---         │\n",
       "│ i16     ┆ i16               ┆ f32      ┆ i32  ┆ i16         │\n",
       "╞═════════╪═══════════════════╪══════════╪══════╪═════════════╡\n",
       "│ 5       ┆ 21                ┆ 1.002301 ┆ 326  ┆ 12          │\n",
       "│ 5       ┆ 46                ┆ 1.002778 ┆ 128  ┆ 4           │\n",
       "│ 5       ┆ 50                ┆ 1.002818 ┆ 55   ┆ 1           │\n",
       "│ 5       ┆ 57                ┆ 1.003155 ┆ 121  ┆ 5           │\n",
       "│ 5       ┆ 68                ┆ 1.003646 ┆ 4    ┆ 1           │\n",
       "└─────────┴───────────────────┴──────────┴──────┴─────────────┘"
      ]
     },
     "execution_count": 4,
     "metadata": {},
     "output_type": "execute_result"
    }
   ],
   "source": [
    "trade_example.head()"
   ]
  },
  {
   "cell_type": "code",
   "execution_count": 5,
   "id": "0ab61fce",
   "metadata": {},
   "outputs": [
    {
     "name": "stdout",
     "output_type": "stream",
     "text": [
      "shape: (0, 10)\n",
      "┌─────────┬────────────┬───────────┬───────────┬───┬───────────┬───────────┬───────────┬───────────┐\n",
      "│ time_id ┆ seconds_in ┆ bid_price ┆ ask_price ┆ … ┆ bid_size1 ┆ ask_size1 ┆ bid_size2 ┆ ask_size2 │\n",
      "│ ---     ┆ _bucket    ┆ 1         ┆ 1         ┆   ┆ ---       ┆ ---       ┆ ---       ┆ ---       │\n",
      "│ i16     ┆ ---        ┆ ---       ┆ ---       ┆   ┆ i32       ┆ i32       ┆ i32       ┆ i32       │\n",
      "│         ┆ i16        ┆ f32       ┆ f32       ┆   ┆           ┆           ┆           ┆           │\n",
      "╞═════════╪════════════╪═══════════╪═══════════╪═══╪═══════════╪═══════════╪═══════════╪═══════════╡\n",
      "└─────────┴────────────┴───────────┴───────────┴───┴───────────┴───────────┴───────────┴───────────┘\n",
      "shape: (0, 5)\n",
      "┌─────────┬───────────────────┬───────┬──────┬─────────────┐\n",
      "│ time_id ┆ seconds_in_bucket ┆ price ┆ size ┆ order_count │\n",
      "│ ---     ┆ ---               ┆ ---   ┆ ---  ┆ ---         │\n",
      "│ i16     ┆ i16               ┆ f32   ┆ i32  ┆ i16         │\n",
      "╞═════════╪═══════════════════╪═══════╪══════╪═════════════╡\n",
      "└─────────┴───────────────────┴───────┴──────┴─────────────┘\n"
     ]
    }
   ],
   "source": [
    "# Check for duplicate seconds_in_bucket in book_example\n",
    "print(book_example.filter(\n",
    "    pl.col(\"seconds_in_bucket\").is_duplicated()\n",
    "))\n",
    "\n",
    "# Check for duplicate seconds_in_bucket in trade_example\n",
    "print(trade_example.filter(\n",
    "    pl.col(\"seconds_in_bucket\").is_duplicated()\n",
    "))"
   ]
  },
  {
   "cell_type": "code",
   "execution_count": 6,
   "id": "fbd6cbb8",
   "metadata": {},
   "outputs": [
    {
     "data": {
      "text/html": [
       "<div><style>\n",
       ".dataframe > thead > tr,\n",
       ".dataframe > tbody > tr {\n",
       "  text-align: right;\n",
       "  white-space: pre-wrap;\n",
       "}\n",
       "</style>\n",
       "<small>shape: (22, 15)</small><table border=\"1\" class=\"dataframe\"><thead><tr><th>seconds_in_bucket</th><th>size</th><th>order_count</th><th>wap_last</th><th>seconds_since_last_wap</th><th>log_return</th><th>rv_30s</th><th>rv_120s</th><th>spread_last</th><th>mid_last</th><th>rel_spread_last</th><th>ofi_last</th><th>seconds_since_last_trade</th><th>last_trade_gap_geq_cap</th><th>order_intensity_60s</th></tr><tr><td>i64</td><td>i32</td><td>i16</td><td>f64</td><td>i64</td><td>f64</td><td>f64</td><td>f64</td><td>f32</td><td>f32</td><td>f32</td><td>f64</td><td>i64</td><td>i8</td><td>i64</td></tr></thead><tbody><tr><td>0</td><td>0</td><td>0</td><td>1.001434</td><td>0</td><td>0.0</td><td>0.0</td><td>0.0</td><td>0.000879</td><td>1.001862</td><td>0.000878</td><td>-0.973799</td><td>1</td><td>0</td><td>0</td></tr><tr><td>1</td><td>0</td><td>0</td><td>1.001448</td><td>0</td><td>0.000014</td><td>0.000014</td><td>0.000014</td><td>0.000879</td><td>1.001862</td><td>0.000878</td><td>-0.941748</td><td>2</td><td>0</td><td>0</td></tr><tr><td>2</td><td>0</td><td>0</td><td>1.001448</td><td>1</td><td>0.0</td><td>0.000014</td><td>0.000014</td><td>0.000879</td><td>1.001862</td><td>0.000878</td><td>-0.941748</td><td>3</td><td>0</td><td>0</td></tr><tr><td>3</td><td>0</td><td>0</td><td>1.001448</td><td>2</td><td>0.0</td><td>0.000014</td><td>0.000014</td><td>0.000879</td><td>1.001862</td><td>0.000878</td><td>-0.941748</td><td>4</td><td>0</td><td>0</td></tr><tr><td>4</td><td>0</td><td>0</td><td>1.001448</td><td>3</td><td>0.0</td><td>0.000014</td><td>0.000014</td><td>0.000879</td><td>1.001862</td><td>0.000878</td><td>-0.941748</td><td>5</td><td>0</td><td>0</td></tr><tr><td>&hellip;</td><td>&hellip;</td><td>&hellip;</td><td>&hellip;</td><td>&hellip;</td><td>&hellip;</td><td>&hellip;</td><td>&hellip;</td><td>&hellip;</td><td>&hellip;</td><td>&hellip;</td><td>&hellip;</td><td>&hellip;</td><td>&hellip;</td><td>&hellip;</td></tr><tr><td>17</td><td>0</td><td>0</td><td>1.001448</td><td>0</td><td>0.000005</td><td>0.000017</td><td>0.000017</td><td>0.000879</td><td>1.001862</td><td>0.000878</td><td>-0.941748</td><td>15</td><td>1</td><td>0</td></tr><tr><td>18</td><td>0</td><td>0</td><td>1.001443</td><td>0</td><td>-0.000005</td><td>0.000018</td><td>0.000018</td><td>0.000879</td><td>1.001862</td><td>0.000878</td><td>-0.953488</td><td>15</td><td>1</td><td>0</td></tr><tr><td>19</td><td>0</td><td>0</td><td>1.001443</td><td>0</td><td>0.0</td><td>0.000018</td><td>0.000018</td><td>0.000879</td><td>1.001862</td><td>0.000878</td><td>-0.953488</td><td>15</td><td>1</td><td>0</td></tr><tr><td>20</td><td>0</td><td>0</td><td>1.001443</td><td>1</td><td>0.0</td><td>0.000018</td><td>0.000018</td><td>0.000879</td><td>1.001862</td><td>0.000878</td><td>-0.953488</td><td>15</td><td>1</td><td>0</td></tr><tr><td>21</td><td>326</td><td>12</td><td>1.001549</td><td>0</td><td>0.000106</td><td>0.000108</td><td>0.000108</td><td>0.001396</td><td>1.00212</td><td>0.001393</td><td>-0.818182</td><td>0</td><td>0</td><td>12</td></tr></tbody></table></div>"
      ],
      "text/plain": [
       "shape: (22, 15)\n",
       "┌────────────┬──────┬────────────┬──────────┬───┬───────────┬────────────┬────────────┬────────────┐\n",
       "│ seconds_in ┆ size ┆ order_coun ┆ wap_last ┆ … ┆ ofi_last  ┆ seconds_si ┆ last_trade ┆ order_inte │\n",
       "│ _bucket    ┆ ---  ┆ t          ┆ ---      ┆   ┆ ---       ┆ nce_last_t ┆ _gap_geq_c ┆ nsity_60s  │\n",
       "│ ---        ┆ i32  ┆ ---        ┆ f64      ┆   ┆ f64       ┆ rade       ┆ ap         ┆ ---        │\n",
       "│ i64        ┆      ┆ i16        ┆          ┆   ┆           ┆ ---        ┆ ---        ┆ i64        │\n",
       "│            ┆      ┆            ┆          ┆   ┆           ┆ i64        ┆ i8         ┆            │\n",
       "╞════════════╪══════╪════════════╪══════════╪═══╪═══════════╪════════════╪════════════╪════════════╡\n",
       "│ 0          ┆ 0    ┆ 0          ┆ 1.001434 ┆ … ┆ -0.973799 ┆ 1          ┆ 0          ┆ 0          │\n",
       "│ 1          ┆ 0    ┆ 0          ┆ 1.001448 ┆ … ┆ -0.941748 ┆ 2          ┆ 0          ┆ 0          │\n",
       "│ 2          ┆ 0    ┆ 0          ┆ 1.001448 ┆ … ┆ -0.941748 ┆ 3          ┆ 0          ┆ 0          │\n",
       "│ 3          ┆ 0    ┆ 0          ┆ 1.001448 ┆ … ┆ -0.941748 ┆ 4          ┆ 0          ┆ 0          │\n",
       "│ 4          ┆ 0    ┆ 0          ┆ 1.001448 ┆ … ┆ -0.941748 ┆ 5          ┆ 0          ┆ 0          │\n",
       "│ …          ┆ …    ┆ …          ┆ …        ┆ … ┆ …         ┆ …          ┆ …          ┆ …          │\n",
       "│ 17         ┆ 0    ┆ 0          ┆ 1.001448 ┆ … ┆ -0.941748 ┆ 15         ┆ 1          ┆ 0          │\n",
       "│ 18         ┆ 0    ┆ 0          ┆ 1.001443 ┆ … ┆ -0.953488 ┆ 15         ┆ 1          ┆ 0          │\n",
       "│ 19         ┆ 0    ┆ 0          ┆ 1.001443 ┆ … ┆ -0.953488 ┆ 15         ┆ 1          ┆ 0          │\n",
       "│ 20         ┆ 0    ┆ 0          ┆ 1.001443 ┆ … ┆ -0.953488 ┆ 15         ┆ 1          ┆ 0          │\n",
       "│ 21         ┆ 326  ┆ 12         ┆ 1.001549 ┆ … ┆ -0.818182 ┆ 0          ┆ 0          ┆ 12         │\n",
       "└────────────┴──────┴────────────┴──────────┴───┴───────────┴────────────┴────────────┴────────────┘"
      ]
     },
     "execution_count": 6,
     "metadata": {},
     "output_type": "execute_result"
    }
   ],
   "source": [
    "from features.FeatureGenerator import FeatureGenerator\n",
    "\n",
    "feature_generator = FeatureGenerator(book_example, trade_example)\n",
    "feature_generator.training_sample.head(22)\n"
   ]
  },
  {
   "cell_type": "code",
   "execution_count": 7,
   "id": "05748c36",
   "metadata": {},
   "outputs": [],
   "source": [
    "assert feature_generator.training_sample.height == 600\n",
    "assert feature_generator.training_sample.select(pl.col(\"log_return\").is_finite().all()).item()\n",
    "assert feature_generator.training_sample.select(pl.col(\"rv_30s\").is_finite().all()).item()\n",
    "assert feature_generator.training_sample.select(pl.col(\"rv_120s\").is_finite().all()).item()\n",
    "assert feature_generator.training_sample[\"seconds_since_last_wap\"].max() <= 15\n",
    "assert feature_generator.training_sample[\"seconds_since_last_trade\"].max() <= 15\n"
   ]
  },
  {
   "cell_type": "code",
   "execution_count": 8,
   "id": "9aa1ef69",
   "metadata": {},
   "outputs": [],
   "source": [
    "train_labels = DataLoader._csv(f'{data_path}/train.csv')"
   ]
  },
  {
   "cell_type": "code",
   "execution_count": 9,
   "id": "e4fb42b9",
   "metadata": {},
   "outputs": [
    {
     "data": {
      "text/html": [
       "<div><style>\n",
       ".dataframe > thead > tr,\n",
       ".dataframe > tbody > tr {\n",
       "  text-align: right;\n",
       "  white-space: pre-wrap;\n",
       "}\n",
       "</style>\n",
       "<small>shape: (5, 3)</small><table border=\"1\" class=\"dataframe\"><thead><tr><th>stock_id</th><th>time_id</th><th>target</th></tr><tr><td>i64</td><td>i64</td><td>f64</td></tr></thead><tbody><tr><td>0</td><td>5</td><td>0.004136</td></tr><tr><td>0</td><td>11</td><td>0.001445</td></tr><tr><td>0</td><td>16</td><td>0.002168</td></tr><tr><td>0</td><td>31</td><td>0.002195</td></tr><tr><td>0</td><td>62</td><td>0.001747</td></tr></tbody></table></div>"
      ],
      "text/plain": [
       "shape: (5, 3)\n",
       "┌──────────┬─────────┬──────────┐\n",
       "│ stock_id ┆ time_id ┆ target   │\n",
       "│ ---      ┆ ---     ┆ ---      │\n",
       "│ i64      ┆ i64     ┆ f64      │\n",
       "╞══════════╪═════════╪══════════╡\n",
       "│ 0        ┆ 5       ┆ 0.004136 │\n",
       "│ 0        ┆ 11      ┆ 0.001445 │\n",
       "│ 0        ┆ 16      ┆ 0.002168 │\n",
       "│ 0        ┆ 31      ┆ 0.002195 │\n",
       "│ 0        ┆ 62      ┆ 0.001747 │\n",
       "└──────────┴─────────┴──────────┘"
      ]
     },
     "execution_count": 9,
     "metadata": {},
     "output_type": "execute_result"
    }
   ],
   "source": [
    "train_labels.head()"
   ]
  },
  {
   "cell_type": "code",
   "execution_count": 10,
   "id": "4c4a2760",
   "metadata": {},
   "outputs": [
    {
     "data": {
      "text/plain": [
       "(428932, 3)"
      ]
     },
     "execution_count": 10,
     "metadata": {},
     "output_type": "execute_result"
    }
   ],
   "source": [
    "train_labels.shape"
   ]
  },
  {
   "cell_type": "code",
   "execution_count": 11,
   "id": "590b3349",
   "metadata": {},
   "outputs": [
    {
     "data": {
      "text/plain": [
       "343153.60000000003"
      ]
     },
     "execution_count": 11,
     "metadata": {},
     "output_type": "execute_result"
    }
   ],
   "source": [
    "428942 * 0.8"
   ]
  },
  {
   "cell_type": "code",
   "execution_count": 12,
   "id": "f4acfe8e",
   "metadata": {},
   "outputs": [
    {
     "data": {
      "text/html": [
       "<div><style>\n",
       ".dataframe > thead > tr,\n",
       ".dataframe > tbody > tr {\n",
       "  text-align: right;\n",
       "  white-space: pre-wrap;\n",
       "}\n",
       "</style>\n",
       "<small>shape: (112, 2)</small><table border=\"1\" class=\"dataframe\"><thead><tr><th>stock_id</th><th>len</th></tr><tr><td>i64</td><td>u32</td></tr></thead><tbody><tr><td>38</td><td>3815</td></tr><tr><td>80</td><td>3820</td></tr><tr><td>75</td><td>3829</td></tr><tr><td>13</td><td>3829</td></tr><tr><td>100</td><td>3829</td></tr><tr><td>&hellip;</td><td>&hellip;</td></tr><tr><td>104</td><td>3830</td></tr><tr><td>95</td><td>3830</td></tr><tr><td>107</td><td>3830</td></tr><tr><td>122</td><td>3830</td></tr><tr><td>110</td><td>3830</td></tr></tbody></table></div>"
      ],
      "text/plain": [
       "shape: (112, 2)\n",
       "┌──────────┬──────┐\n",
       "│ stock_id ┆ len  │\n",
       "│ ---      ┆ ---  │\n",
       "│ i64      ┆ u32  │\n",
       "╞══════════╪══════╡\n",
       "│ 38       ┆ 3815 │\n",
       "│ 80       ┆ 3820 │\n",
       "│ 75       ┆ 3829 │\n",
       "│ 13       ┆ 3829 │\n",
       "│ 100      ┆ 3829 │\n",
       "│ …        ┆ …    │\n",
       "│ 104      ┆ 3830 │\n",
       "│ 95       ┆ 3830 │\n",
       "│ 107      ┆ 3830 │\n",
       "│ 122      ┆ 3830 │\n",
       "│ 110      ┆ 3830 │\n",
       "└──────────┴──────┘"
      ]
     },
     "execution_count": 12,
     "metadata": {},
     "output_type": "execute_result"
    }
   ],
   "source": [
    "train_labels.group_by(\"stock_id\").len().sort(\"len\")"
   ]
  }
 ],
 "metadata": {
  "kernelspec": {
   "display_name": ".venv",
   "language": "python",
   "name": "python3"
  },
  "language_info": {
   "codemirror_mode": {
    "name": "ipython",
    "version": 3
   },
   "file_extension": ".py",
   "mimetype": "text/x-python",
   "name": "python",
   "nbconvert_exporter": "python",
   "pygments_lexer": "ipython3",
   "version": "3.12.3"
  }
 },
 "nbformat": 4,
 "nbformat_minor": 5
}
