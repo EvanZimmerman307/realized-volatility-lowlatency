{
 "cells": [
  {
   "cell_type": "markdown",
   "id": "b186453e",
   "metadata": {},
   "source": [
    "## Test out the DataLoader"
   ]
  },
  {
   "cell_type": "code",
   "execution_count": 21,
   "id": "b141f5ef",
   "metadata": {},
   "outputs": [],
   "source": [
    "import polars as pl\n",
    "from features.DataLoader import DataLoader\n",
    "import logging"
   ]
  },
  {
   "cell_type": "code",
   "execution_count": 22,
   "id": "f743c36c",
   "metadata": {},
   "outputs": [
    {
     "name": "stderr",
     "output_type": "stream",
     "text": [
      "2025-08-19 18:13:39,435 [INFO] Loading data for time_id\n",
      "2025-08-19 18:13:39,479 [INFO] Parquet is getting read\n",
      "2025-08-19 18:13:39,480 [INFO] shape: (5, 10)\n",
      "┌─────────┬────────────┬───────────┬───────────┬───┬───────────┬───────────┬───────────┬───────────┐\n",
      "│ time_id ┆ seconds_in ┆ bid_price ┆ ask_price ┆ … ┆ bid_size1 ┆ ask_size1 ┆ bid_size2 ┆ ask_size2 │\n",
      "│ ---     ┆ _bucket    ┆ 1         ┆ 1         ┆   ┆ ---       ┆ ---       ┆ ---       ┆ ---       │\n",
      "│ i16     ┆ ---        ┆ ---       ┆ ---       ┆   ┆ i32       ┆ i32       ┆ i32       ┆ i32       │\n",
      "│         ┆ i16        ┆ f32       ┆ f32       ┆   ┆           ┆           ┆           ┆           │\n",
      "╞═════════╪════════════╪═══════════╪═══════════╪═══╪═══════════╪═══════════╪═══════════╪═══════════╡\n",
      "│ 5       ┆ 0          ┆ 1.001422  ┆ 1.002301  ┆ … ┆ 3         ┆ 226       ┆ 2         ┆ 100       │\n",
      "│ 5       ┆ 1          ┆ 1.001422  ┆ 1.002301  ┆ … ┆ 3         ┆ 100       ┆ 2         ┆ 100       │\n",
      "│ 5       ┆ 5          ┆ 1.001422  ┆ 1.002301  ┆ … ┆ 3         ┆ 100       ┆ 2         ┆ 100       │\n",
      "│ 5       ┆ 6          ┆ 1.001422  ┆ 1.002301  ┆ … ┆ 3         ┆ 126       ┆ 2         ┆ 100       │\n",
      "│ 5       ┆ 7          ┆ 1.001422  ┆ 1.002301  ┆ … ┆ 3         ┆ 126       ┆ 2         ┆ 100       │\n",
      "└─────────┴────────────┴───────────┴───────────┴───┴───────────┴───────────┴───────────┴───────────┘\n",
      "2025-08-19 18:13:39,481 [INFO] Loading data for time_id\n",
      "2025-08-19 18:13:39,485 [INFO] Parquet is getting read\n",
      "2025-08-19 18:13:39,486 [INFO] shape: (5, 5)\n",
      "┌─────────┬───────────────────┬──────────┬──────┬─────────────┐\n",
      "│ time_id ┆ seconds_in_bucket ┆ price    ┆ size ┆ order_count │\n",
      "│ ---     ┆ ---               ┆ ---      ┆ ---  ┆ ---         │\n",
      "│ i16     ┆ i16               ┆ f32      ┆ i32  ┆ i16         │\n",
      "╞═════════╪═══════════════════╪══════════╪══════╪═════════════╡\n",
      "│ 5       ┆ 21                ┆ 1.002301 ┆ 326  ┆ 12          │\n",
      "│ 5       ┆ 46                ┆ 1.002778 ┆ 128  ┆ 4           │\n",
      "│ 5       ┆ 50                ┆ 1.002818 ┆ 55   ┆ 1           │\n",
      "│ 5       ┆ 57                ┆ 1.003155 ┆ 121  ┆ 5           │\n",
      "│ 5       ┆ 68                ┆ 1.003646 ┆ 4    ┆ 1           │\n",
      "└─────────┴───────────────────┴──────────┴──────┴─────────────┘\n"
     ]
    }
   ],
   "source": [
    "data_path = \"../data/raw\"\n",
    "time_id = 5\n",
    "logger = logging.getLogger(__name__)\n",
    "book_example = DataLoader.load_data_for_time_id(f'{data_path}/book_train.parquet/stock_id=0', time_id, logger)\n",
    "trade_example =  DataLoader.load_data_for_time_id(f'{data_path}/trade_train.parquet/stock_id=0', time_id, logger)\n"
   ]
  },
  {
   "cell_type": "code",
   "execution_count": 23,
   "id": "9434eddc",
   "metadata": {},
   "outputs": [
    {
     "data": {
      "text/html": [
       "<div><style>\n",
       ".dataframe > thead > tr,\n",
       ".dataframe > tbody > tr {\n",
       "  text-align: right;\n",
       "  white-space: pre-wrap;\n",
       "}\n",
       "</style>\n",
       "<small>shape: (5, 10)</small><table border=\"1\" class=\"dataframe\"><thead><tr><th>time_id</th><th>seconds_in_bucket</th><th>bid_price1</th><th>ask_price1</th><th>bid_price2</th><th>ask_price2</th><th>bid_size1</th><th>ask_size1</th><th>bid_size2</th><th>ask_size2</th></tr><tr><td>i16</td><td>i16</td><td>f32</td><td>f32</td><td>f32</td><td>f32</td><td>i32</td><td>i32</td><td>i32</td><td>i32</td></tr></thead><tbody><tr><td>5</td><td>0</td><td>1.001422</td><td>1.002301</td><td>1.00137</td><td>1.002353</td><td>3</td><td>226</td><td>2</td><td>100</td></tr><tr><td>5</td><td>1</td><td>1.001422</td><td>1.002301</td><td>1.00137</td><td>1.002353</td><td>3</td><td>100</td><td>2</td><td>100</td></tr><tr><td>5</td><td>5</td><td>1.001422</td><td>1.002301</td><td>1.00137</td><td>1.002405</td><td>3</td><td>100</td><td>2</td><td>100</td></tr><tr><td>5</td><td>6</td><td>1.001422</td><td>1.002301</td><td>1.00137</td><td>1.002405</td><td>3</td><td>126</td><td>2</td><td>100</td></tr><tr><td>5</td><td>7</td><td>1.001422</td><td>1.002301</td><td>1.00137</td><td>1.002405</td><td>3</td><td>126</td><td>2</td><td>100</td></tr></tbody></table></div>"
      ],
      "text/plain": [
       "shape: (5, 10)\n",
       "┌─────────┬────────────┬───────────┬───────────┬───┬───────────┬───────────┬───────────┬───────────┐\n",
       "│ time_id ┆ seconds_in ┆ bid_price ┆ ask_price ┆ … ┆ bid_size1 ┆ ask_size1 ┆ bid_size2 ┆ ask_size2 │\n",
       "│ ---     ┆ _bucket    ┆ 1         ┆ 1         ┆   ┆ ---       ┆ ---       ┆ ---       ┆ ---       │\n",
       "│ i16     ┆ ---        ┆ ---       ┆ ---       ┆   ┆ i32       ┆ i32       ┆ i32       ┆ i32       │\n",
       "│         ┆ i16        ┆ f32       ┆ f32       ┆   ┆           ┆           ┆           ┆           │\n",
       "╞═════════╪════════════╪═══════════╪═══════════╪═══╪═══════════╪═══════════╪═══════════╪═══════════╡\n",
       "│ 5       ┆ 0          ┆ 1.001422  ┆ 1.002301  ┆ … ┆ 3         ┆ 226       ┆ 2         ┆ 100       │\n",
       "│ 5       ┆ 1          ┆ 1.001422  ┆ 1.002301  ┆ … ┆ 3         ┆ 100       ┆ 2         ┆ 100       │\n",
       "│ 5       ┆ 5          ┆ 1.001422  ┆ 1.002301  ┆ … ┆ 3         ┆ 100       ┆ 2         ┆ 100       │\n",
       "│ 5       ┆ 6          ┆ 1.001422  ┆ 1.002301  ┆ … ┆ 3         ┆ 126       ┆ 2         ┆ 100       │\n",
       "│ 5       ┆ 7          ┆ 1.001422  ┆ 1.002301  ┆ … ┆ 3         ┆ 126       ┆ 2         ┆ 100       │\n",
       "└─────────┴────────────┴───────────┴───────────┴───┴───────────┴───────────┴───────────┴───────────┘"
      ]
     },
     "execution_count": 23,
     "metadata": {},
     "output_type": "execute_result"
    }
   ],
   "source": [
    "book_example.head()"
   ]
  },
  {
   "cell_type": "code",
   "execution_count": 24,
   "id": "74d2a46f",
   "metadata": {},
   "outputs": [
    {
     "data": {
      "text/html": [
       "<div><style>\n",
       ".dataframe > thead > tr,\n",
       ".dataframe > tbody > tr {\n",
       "  text-align: right;\n",
       "  white-space: pre-wrap;\n",
       "}\n",
       "</style>\n",
       "<small>shape: (5, 5)</small><table border=\"1\" class=\"dataframe\"><thead><tr><th>time_id</th><th>seconds_in_bucket</th><th>price</th><th>size</th><th>order_count</th></tr><tr><td>i16</td><td>i16</td><td>f32</td><td>i32</td><td>i16</td></tr></thead><tbody><tr><td>5</td><td>21</td><td>1.002301</td><td>326</td><td>12</td></tr><tr><td>5</td><td>46</td><td>1.002778</td><td>128</td><td>4</td></tr><tr><td>5</td><td>50</td><td>1.002818</td><td>55</td><td>1</td></tr><tr><td>5</td><td>57</td><td>1.003155</td><td>121</td><td>5</td></tr><tr><td>5</td><td>68</td><td>1.003646</td><td>4</td><td>1</td></tr></tbody></table></div>"
      ],
      "text/plain": [
       "shape: (5, 5)\n",
       "┌─────────┬───────────────────┬──────────┬──────┬─────────────┐\n",
       "│ time_id ┆ seconds_in_bucket ┆ price    ┆ size ┆ order_count │\n",
       "│ ---     ┆ ---               ┆ ---      ┆ ---  ┆ ---         │\n",
       "│ i16     ┆ i16               ┆ f32      ┆ i32  ┆ i16         │\n",
       "╞═════════╪═══════════════════╪══════════╪══════╪═════════════╡\n",
       "│ 5       ┆ 21                ┆ 1.002301 ┆ 326  ┆ 12          │\n",
       "│ 5       ┆ 46                ┆ 1.002778 ┆ 128  ┆ 4           │\n",
       "│ 5       ┆ 50                ┆ 1.002818 ┆ 55   ┆ 1           │\n",
       "│ 5       ┆ 57                ┆ 1.003155 ┆ 121  ┆ 5           │\n",
       "│ 5       ┆ 68                ┆ 1.003646 ┆ 4    ┆ 1           │\n",
       "└─────────┴───────────────────┴──────────┴──────┴─────────────┘"
      ]
     },
     "execution_count": 24,
     "metadata": {},
     "output_type": "execute_result"
    }
   ],
   "source": [
    "trade_example.head()"
   ]
  },
  {
   "cell_type": "code",
   "execution_count": 25,
   "id": "0ab61fce",
   "metadata": {},
   "outputs": [
    {
     "name": "stdout",
     "output_type": "stream",
     "text": [
      "shape: (0, 10)\n",
      "┌─────────┬────────────┬───────────┬───────────┬───┬───────────┬───────────┬───────────┬───────────┐\n",
      "│ time_id ┆ seconds_in ┆ bid_price ┆ ask_price ┆ … ┆ bid_size1 ┆ ask_size1 ┆ bid_size2 ┆ ask_size2 │\n",
      "│ ---     ┆ _bucket    ┆ 1         ┆ 1         ┆   ┆ ---       ┆ ---       ┆ ---       ┆ ---       │\n",
      "│ i16     ┆ ---        ┆ ---       ┆ ---       ┆   ┆ i32       ┆ i32       ┆ i32       ┆ i32       │\n",
      "│         ┆ i16        ┆ f32       ┆ f32       ┆   ┆           ┆           ┆           ┆           │\n",
      "╞═════════╪════════════╪═══════════╪═══════════╪═══╪═══════════╪═══════════╪═══════════╪═══════════╡\n",
      "└─────────┴────────────┴───────────┴───────────┴───┴───────────┴───────────┴───────────┴───────────┘\n",
      "shape: (0, 5)\n",
      "┌─────────┬───────────────────┬───────┬──────┬─────────────┐\n",
      "│ time_id ┆ seconds_in_bucket ┆ price ┆ size ┆ order_count │\n",
      "│ ---     ┆ ---               ┆ ---   ┆ ---  ┆ ---         │\n",
      "│ i16     ┆ i16               ┆ f32   ┆ i32  ┆ i16         │\n",
      "╞═════════╪═══════════════════╪═══════╪══════╪═════════════╡\n",
      "└─────────┴───────────────────┴───────┴──────┴─────────────┘\n"
     ]
    }
   ],
   "source": [
    "# Check for duplicate seconds_in_bucket in book_example\n",
    "print(book_example.filter(\n",
    "    pl.col(\"seconds_in_bucket\").is_duplicated()\n",
    "))\n",
    "\n",
    "# Check for duplicate seconds_in_bucket in trade_example\n",
    "print(trade_example.filter(\n",
    "    pl.col(\"seconds_in_bucket\").is_duplicated()\n",
    "))"
   ]
  },
  {
   "cell_type": "code",
   "execution_count": 26,
   "id": "fbd6cbb8",
   "metadata": {},
   "outputs": [
    {
     "data": {
      "text/html": [
       "<div><style>\n",
       ".dataframe > thead > tr,\n",
       ".dataframe > tbody > tr {\n",
       "  text-align: right;\n",
       "  white-space: pre-wrap;\n",
       "}\n",
       "</style>\n",
       "<small>shape: (22, 15)</small><table border=\"1\" class=\"dataframe\"><thead><tr><th>seconds_in_bucket</th><th>size</th><th>order_count</th><th>wap_last</th><th>seconds_since_last_wap</th><th>log_return</th><th>rv_30s</th><th>rv_120s</th><th>spread_last</th><th>mid_last</th><th>rel_spread_last</th><th>ofi_last</th><th>seconds_since_last_trade</th><th>last_trade_gap_geq_cap</th><th>order_intensity_60s</th></tr><tr><td>i64</td><td>i32</td><td>i16</td><td>f64</td><td>i64</td><td>f64</td><td>f64</td><td>f64</td><td>f32</td><td>f32</td><td>f32</td><td>f64</td><td>i64</td><td>i8</td><td>i64</td></tr></thead><tbody><tr><td>0</td><td>0</td><td>0</td><td>1.001434</td><td>0</td><td>0.0</td><td>0.0</td><td>0.0</td><td>0.000879</td><td>1.001862</td><td>0.000878</td><td>-0.973799</td><td>1</td><td>0</td><td>0</td></tr><tr><td>1</td><td>0</td><td>0</td><td>1.001448</td><td>0</td><td>0.000014</td><td>0.000014</td><td>0.000014</td><td>0.000879</td><td>1.001862</td><td>0.000878</td><td>-0.941748</td><td>2</td><td>0</td><td>0</td></tr><tr><td>2</td><td>0</td><td>0</td><td>1.001448</td><td>1</td><td>0.0</td><td>0.000014</td><td>0.000014</td><td>0.000879</td><td>1.001862</td><td>0.000878</td><td>-0.941748</td><td>3</td><td>0</td><td>0</td></tr><tr><td>3</td><td>0</td><td>0</td><td>1.001448</td><td>2</td><td>0.0</td><td>0.000014</td><td>0.000014</td><td>0.000879</td><td>1.001862</td><td>0.000878</td><td>-0.941748</td><td>4</td><td>0</td><td>0</td></tr><tr><td>4</td><td>0</td><td>0</td><td>1.001448</td><td>3</td><td>0.0</td><td>0.000014</td><td>0.000014</td><td>0.000879</td><td>1.001862</td><td>0.000878</td><td>-0.941748</td><td>5</td><td>0</td><td>0</td></tr><tr><td>&hellip;</td><td>&hellip;</td><td>&hellip;</td><td>&hellip;</td><td>&hellip;</td><td>&hellip;</td><td>&hellip;</td><td>&hellip;</td><td>&hellip;</td><td>&hellip;</td><td>&hellip;</td><td>&hellip;</td><td>&hellip;</td><td>&hellip;</td><td>&hellip;</td></tr><tr><td>17</td><td>0</td><td>0</td><td>1.001448</td><td>0</td><td>0.000005</td><td>0.000017</td><td>0.000017</td><td>0.000879</td><td>1.001862</td><td>0.000878</td><td>-0.941748</td><td>15</td><td>1</td><td>0</td></tr><tr><td>18</td><td>0</td><td>0</td><td>1.001443</td><td>0</td><td>-0.000005</td><td>0.000018</td><td>0.000018</td><td>0.000879</td><td>1.001862</td><td>0.000878</td><td>-0.953488</td><td>15</td><td>1</td><td>0</td></tr><tr><td>19</td><td>0</td><td>0</td><td>1.001443</td><td>0</td><td>0.0</td><td>0.000018</td><td>0.000018</td><td>0.000879</td><td>1.001862</td><td>0.000878</td><td>-0.953488</td><td>15</td><td>1</td><td>0</td></tr><tr><td>20</td><td>0</td><td>0</td><td>1.001443</td><td>1</td><td>0.0</td><td>0.000018</td><td>0.000018</td><td>0.000879</td><td>1.001862</td><td>0.000878</td><td>-0.953488</td><td>15</td><td>1</td><td>0</td></tr><tr><td>21</td><td>326</td><td>12</td><td>1.001549</td><td>0</td><td>0.000106</td><td>0.000108</td><td>0.000108</td><td>0.001396</td><td>1.00212</td><td>0.001393</td><td>-0.818182</td><td>0</td><td>0</td><td>12</td></tr></tbody></table></div>"
      ],
      "text/plain": [
       "shape: (22, 15)\n",
       "┌────────────┬──────┬────────────┬──────────┬───┬───────────┬────────────┬────────────┬────────────┐\n",
       "│ seconds_in ┆ size ┆ order_coun ┆ wap_last ┆ … ┆ ofi_last  ┆ seconds_si ┆ last_trade ┆ order_inte │\n",
       "│ _bucket    ┆ ---  ┆ t          ┆ ---      ┆   ┆ ---       ┆ nce_last_t ┆ _gap_geq_c ┆ nsity_60s  │\n",
       "│ ---        ┆ i32  ┆ ---        ┆ f64      ┆   ┆ f64       ┆ rade       ┆ ap         ┆ ---        │\n",
       "│ i64        ┆      ┆ i16        ┆          ┆   ┆           ┆ ---        ┆ ---        ┆ i64        │\n",
       "│            ┆      ┆            ┆          ┆   ┆           ┆ i64        ┆ i8         ┆            │\n",
       "╞════════════╪══════╪════════════╪══════════╪═══╪═══════════╪════════════╪════════════╪════════════╡\n",
       "│ 0          ┆ 0    ┆ 0          ┆ 1.001434 ┆ … ┆ -0.973799 ┆ 1          ┆ 0          ┆ 0          │\n",
       "│ 1          ┆ 0    ┆ 0          ┆ 1.001448 ┆ … ┆ -0.941748 ┆ 2          ┆ 0          ┆ 0          │\n",
       "│ 2          ┆ 0    ┆ 0          ┆ 1.001448 ┆ … ┆ -0.941748 ┆ 3          ┆ 0          ┆ 0          │\n",
       "│ 3          ┆ 0    ┆ 0          ┆ 1.001448 ┆ … ┆ -0.941748 ┆ 4          ┆ 0          ┆ 0          │\n",
       "│ 4          ┆ 0    ┆ 0          ┆ 1.001448 ┆ … ┆ -0.941748 ┆ 5          ┆ 0          ┆ 0          │\n",
       "│ …          ┆ …    ┆ …          ┆ …        ┆ … ┆ …         ┆ …          ┆ …          ┆ …          │\n",
       "│ 17         ┆ 0    ┆ 0          ┆ 1.001448 ┆ … ┆ -0.941748 ┆ 15         ┆ 1          ┆ 0          │\n",
       "│ 18         ┆ 0    ┆ 0          ┆ 1.001443 ┆ … ┆ -0.953488 ┆ 15         ┆ 1          ┆ 0          │\n",
       "│ 19         ┆ 0    ┆ 0          ┆ 1.001443 ┆ … ┆ -0.953488 ┆ 15         ┆ 1          ┆ 0          │\n",
       "│ 20         ┆ 0    ┆ 0          ┆ 1.001443 ┆ … ┆ -0.953488 ┆ 15         ┆ 1          ┆ 0          │\n",
       "│ 21         ┆ 326  ┆ 12         ┆ 1.001549 ┆ … ┆ -0.818182 ┆ 0          ┆ 0          ┆ 12         │\n",
       "└────────────┴──────┴────────────┴──────────┴───┴───────────┴────────────┴────────────┴────────────┘"
      ]
     },
     "execution_count": 26,
     "metadata": {},
     "output_type": "execute_result"
    }
   ],
   "source": [
    "from features.FeatureGenerator import FeatureGenerator\n",
    "\n",
    "feature_generator = FeatureGenerator(book_example, trade_example)\n",
    "feature_generator.training_sample.head(22)\n"
   ]
  },
  {
   "cell_type": "code",
   "execution_count": 27,
   "id": "05748c36",
   "metadata": {},
   "outputs": [],
   "source": [
    "assert feature_generator.training_sample.height == 600\n",
    "assert feature_generator.training_sample.select(pl.col(\"log_return\").is_finite().all()).item()\n",
    "assert feature_generator.training_sample.select(pl.col(\"rv_30s\").is_finite().all()).item()\n",
    "assert feature_generator.training_sample.select(pl.col(\"rv_120s\").is_finite().all()).item()\n",
    "assert feature_generator.training_sample[\"seconds_since_last_wap\"].max() <= 15\n",
    "assert feature_generator.training_sample[\"seconds_since_last_trade\"].max() <= 15\n"
   ]
  },
  {
   "cell_type": "code",
   "execution_count": 28,
   "id": "9aa1ef69",
   "metadata": {},
   "outputs": [],
   "source": [
    "train_labels = DataLoader._csv(f'{data_path}/train.csv')"
   ]
  },
  {
   "cell_type": "code",
   "execution_count": 29,
   "id": "e4fb42b9",
   "metadata": {},
   "outputs": [
    {
     "data": {
      "text/html": [
       "<div><style>\n",
       ".dataframe > thead > tr,\n",
       ".dataframe > tbody > tr {\n",
       "  text-align: right;\n",
       "  white-space: pre-wrap;\n",
       "}\n",
       "</style>\n",
       "<small>shape: (5, 3)</small><table border=\"1\" class=\"dataframe\"><thead><tr><th>stock_id</th><th>time_id</th><th>target</th></tr><tr><td>i64</td><td>i64</td><td>f64</td></tr></thead><tbody><tr><td>0</td><td>5</td><td>0.004136</td></tr><tr><td>0</td><td>11</td><td>0.001445</td></tr><tr><td>0</td><td>16</td><td>0.002168</td></tr><tr><td>0</td><td>31</td><td>0.002195</td></tr><tr><td>0</td><td>62</td><td>0.001747</td></tr></tbody></table></div>"
      ],
      "text/plain": [
       "shape: (5, 3)\n",
       "┌──────────┬─────────┬──────────┐\n",
       "│ stock_id ┆ time_id ┆ target   │\n",
       "│ ---      ┆ ---     ┆ ---      │\n",
       "│ i64      ┆ i64     ┆ f64      │\n",
       "╞══════════╪═════════╪══════════╡\n",
       "│ 0        ┆ 5       ┆ 0.004136 │\n",
       "│ 0        ┆ 11      ┆ 0.001445 │\n",
       "│ 0        ┆ 16      ┆ 0.002168 │\n",
       "│ 0        ┆ 31      ┆ 0.002195 │\n",
       "│ 0        ┆ 62      ┆ 0.001747 │\n",
       "└──────────┴─────────┴──────────┘"
      ]
     },
     "execution_count": 29,
     "metadata": {},
     "output_type": "execute_result"
    }
   ],
   "source": [
    "train_labels.head()"
   ]
  },
  {
   "cell_type": "code",
   "execution_count": 30,
   "id": "4c4a2760",
   "metadata": {},
   "outputs": [
    {
     "data": {
      "text/plain": [
       "(428932, 3)"
      ]
     },
     "execution_count": 30,
     "metadata": {},
     "output_type": "execute_result"
    }
   ],
   "source": [
    "train_labels.shape"
   ]
  },
  {
   "cell_type": "code",
   "execution_count": 31,
   "id": "590b3349",
   "metadata": {},
   "outputs": [
    {
     "data": {
      "text/plain": [
       "343153.60000000003"
      ]
     },
     "execution_count": 31,
     "metadata": {},
     "output_type": "execute_result"
    }
   ],
   "source": [
    "428942 * 0.8"
   ]
  },
  {
   "cell_type": "code",
   "execution_count": 32,
   "id": "f4acfe8e",
   "metadata": {},
   "outputs": [
    {
     "data": {
      "text/html": [
       "<div><style>\n",
       ".dataframe > thead > tr,\n",
       ".dataframe > tbody > tr {\n",
       "  text-align: right;\n",
       "  white-space: pre-wrap;\n",
       "}\n",
       "</style>\n",
       "<small>shape: (112, 2)</small><table border=\"1\" class=\"dataframe\"><thead><tr><th>stock_id</th><th>len</th></tr><tr><td>i64</td><td>u32</td></tr></thead><tbody><tr><td>38</td><td>3815</td></tr><tr><td>80</td><td>3820</td></tr><tr><td>75</td><td>3829</td></tr><tr><td>13</td><td>3829</td></tr><tr><td>100</td><td>3829</td></tr><tr><td>&hellip;</td><td>&hellip;</td></tr><tr><td>41</td><td>3830</td></tr><tr><td>101</td><td>3830</td></tr><tr><td>83</td><td>3830</td></tr><tr><td>119</td><td>3830</td></tr><tr><td>44</td><td>3830</td></tr></tbody></table></div>"
      ],
      "text/plain": [
       "shape: (112, 2)\n",
       "┌──────────┬──────┐\n",
       "│ stock_id ┆ len  │\n",
       "│ ---      ┆ ---  │\n",
       "│ i64      ┆ u32  │\n",
       "╞══════════╪══════╡\n",
       "│ 38       ┆ 3815 │\n",
       "│ 80       ┆ 3820 │\n",
       "│ 75       ┆ 3829 │\n",
       "│ 13       ┆ 3829 │\n",
       "│ 100      ┆ 3829 │\n",
       "│ …        ┆ …    │\n",
       "│ 41       ┆ 3830 │\n",
       "│ 101      ┆ 3830 │\n",
       "│ 83       ┆ 3830 │\n",
       "│ 119      ┆ 3830 │\n",
       "│ 44       ┆ 3830 │\n",
       "└──────────┴──────┘"
      ]
     },
     "execution_count": 32,
     "metadata": {},
     "output_type": "execute_result"
    }
   ],
   "source": [
    "train_labels.group_by(\"stock_id\").len().sort(\"len\")"
   ]
  },
  {
   "cell_type": "code",
   "execution_count": 33,
   "id": "b4994d53",
   "metadata": {},
   "outputs": [
    {
     "name": "stdout",
     "output_type": "stream",
     "text": [
      "shape: (1, 2)\n",
      "┌──────────┬──────┐\n",
      "│ stock_id ┆ len  │\n",
      "│ ---      ┆ ---  │\n",
      "│ i64      ┆ u32  │\n",
      "╞══════════╪══════╡\n",
      "│ 13       ┆ 3829 │\n",
      "└──────────┴──────┘\n"
     ]
    }
   ],
   "source": [
    "print(train_labels.group_by(\"stock_id\").len().filter(pl.col(\"stock_id\") == 13))"
   ]
  },
  {
   "cell_type": "markdown",
   "id": "befa9153",
   "metadata": {},
   "source": [
    "## Testing index.py"
   ]
  },
  {
   "cell_type": "code",
   "execution_count": 34,
   "id": "42577ffd",
   "metadata": {},
   "outputs": [],
   "source": [
    "train_index = pl.read_parquet('../data/train_index.parquet')\n",
    "val_index = pl.read_parquet('../data/validation_index.parquet')\n",
    "evaluation_index = pl.read_parquet('../data/eval_index.parquet')"
   ]
  },
  {
   "cell_type": "code",
   "execution_count": 35,
   "id": "1d6447f0",
   "metadata": {},
   "outputs": [
    {
     "name": "stdout",
     "output_type": "stream",
     "text": [
      "(303873, 5)\n",
      "shape: (112, 2)\n",
      "┌──────────┬──────┐\n",
      "│ stock_id ┆ len  │\n",
      "│ ---      ┆ ---  │\n",
      "│ i64      ┆ u32  │\n",
      "╞══════════╪══════╡\n",
      "│ 13       ┆ 2112 │\n",
      "│ 30       ┆ 2122 │\n",
      "│ 11       ┆ 2144 │\n",
      "│ 26       ┆ 2173 │\n",
      "│ 116      ┆ 2175 │\n",
      "│ …        ┆ …    │\n",
      "│ 82       ┆ 2962 │\n",
      "│ 123      ┆ 2966 │\n",
      "│ 122      ┆ 2966 │\n",
      "│ 42       ┆ 2970 │\n",
      "│ 61       ┆ 2974 │\n",
      "└──────────┴──────┘\n"
     ]
    }
   ],
   "source": [
    "train_index.head()\n",
    "print(train_index.shape)\n",
    "print(train_index.group_by(\"stock_id\").len().sort(\"len\"))"
   ]
  },
  {
   "cell_type": "code",
   "execution_count": 36,
   "id": "09bc50e3",
   "metadata": {},
   "outputs": [
    {
     "name": "stdout",
     "output_type": "stream",
     "text": [
      "(41336, 5)\n",
      "shape: (1, 2)\n",
      "┌──────────┬─────┐\n",
      "│ stock_id ┆ len │\n",
      "│ ---      ┆ --- │\n",
      "│ i64      ┆ u32 │\n",
      "╞══════════╪═════╡\n",
      "│ 13       ┆ 457 │\n",
      "└──────────┴─────┘\n"
     ]
    }
   ],
   "source": [
    "val_index.head()\n",
    "print(val_index.shape)\n",
    "print(val_index.group_by(\"stock_id\").len().filter(pl.col(\"stock_id\") == 13))"
   ]
  },
  {
   "cell_type": "code",
   "execution_count": 37,
   "id": "bcbd5885",
   "metadata": {},
   "outputs": [
    {
     "name": "stdout",
     "output_type": "stream",
     "text": [
      "(83723, 5)\n",
      "shape: (1, 2)\n",
      "┌──────────┬──────┐\n",
      "│ stock_id ┆ len  │\n",
      "│ ---      ┆ ---  │\n",
      "│ i64      ┆ u32  │\n",
      "╞══════════╪══════╡\n",
      "│ 13       ┆ 1260 │\n",
      "└──────────┴──────┘\n"
     ]
    }
   ],
   "source": [
    "evaluation_index.head()\n",
    "print(evaluation_index.shape)\n",
    "print(evaluation_index.group_by(\"stock_id\").len().filter(pl.col(\"stock_id\") == 13))"
   ]
  },
  {
   "cell_type": "code",
   "execution_count": 38,
   "id": "29638706",
   "metadata": {},
   "outputs": [
    {
     "data": {
      "text/plain": [
       "3829"
      ]
     },
     "execution_count": 38,
     "metadata": {},
     "output_type": "execute_result"
    }
   ],
   "source": [
    "2112 + 1260 + 457"
   ]
  },
  {
   "cell_type": "code",
   "execution_count": 39,
   "id": "cf88c0ca",
   "metadata": {},
   "outputs": [
    {
     "data": {
      "text/html": [
       "<div><style>\n",
       ".dataframe > thead > tr,\n",
       ".dataframe > tbody > tr {\n",
       "  text-align: right;\n",
       "  white-space: pre-wrap;\n",
       "}\n",
       "</style>\n",
       "<small>shape: (1, 5)</small><table border=\"1\" class=\"dataframe\"><thead><tr><th>stock_id</th><th>time_id</th><th>target</th><th>book_path</th><th>trade_path</th></tr><tr><td>i64</td><td>i64</td><td>f64</td><td>str</td><td>str</td></tr></thead><tbody><tr><td>0</td><td>11</td><td>0.001445</td><td>&quot;data/raw/book_train.parquet/st…</td><td>&quot;data/raw/trade_train.parquet/s…</td></tr></tbody></table></div>"
      ],
      "text/plain": [
       "shape: (1, 5)\n",
       "┌──────────┬─────────┬──────────┬─────────────────────────────────┬────────────────────────────────┐\n",
       "│ stock_id ┆ time_id ┆ target   ┆ book_path                       ┆ trade_path                     │\n",
       "│ ---      ┆ ---     ┆ ---      ┆ ---                             ┆ ---                            │\n",
       "│ i64      ┆ i64     ┆ f64      ┆ str                             ┆ str                            │\n",
       "╞══════════╪═════════╪══════════╪═════════════════════════════════╪════════════════════════════════╡\n",
       "│ 0        ┆ 11      ┆ 0.001445 ┆ data/raw/book_train.parquet/st… ┆ data/raw/trade_train.parquet/s │\n",
       "│          ┆         ┆          ┆                                 ┆ …                              │\n",
       "└──────────┴─────────┴──────────┴─────────────────────────────────┴────────────────────────────────┘"
      ]
     },
     "execution_count": 39,
     "metadata": {},
     "output_type": "execute_result"
    }
   ],
   "source": [
    "train_index.head()[0]"
   ]
  },
  {
   "cell_type": "code",
   "execution_count": null,
   "id": "799e050a",
   "metadata": {},
   "outputs": [
    {
     "name": "stderr",
     "output_type": "stream",
     "text": [
      "2025-08-19 18:13:39,716 [INFO] data/raw/book_train.parquet/stock_id=0\n",
      "2025-08-19 18:13:39,717 [INFO] Loading data for time_id\n",
      "2025-08-19 18:13:39,760 [INFO] Parquet is getting read\n",
      "2025-08-19 18:13:39,763 [INFO] shape: (5, 10)\n",
      "┌─────────┬────────────┬───────────┬───────────┬───┬───────────┬───────────┬───────────┬───────────┐\n",
      "│ time_id ┆ seconds_in ┆ bid_price ┆ ask_price ┆ … ┆ bid_size1 ┆ ask_size1 ┆ bid_size2 ┆ ask_size2 │\n",
      "│ ---     ┆ _bucket    ┆ 1         ┆ 1         ┆   ┆ ---       ┆ ---       ┆ ---       ┆ ---       │\n",
      "│ i16     ┆ ---        ┆ ---       ┆ ---       ┆   ┆ i32       ┆ i32       ┆ i32       ┆ i32       │\n",
      "│         ┆ i16        ┆ f32       ┆ f32       ┆   ┆           ┆           ┆           ┆           │\n",
      "╞═════════╪════════════╪═══════════╪═══════════╪═══╪═══════════╪═══════════╪═══════════╪═══════════╡\n",
      "│ 11      ┆ 0          ┆ 0.999473  ┆ 1.000176  ┆ … ┆ 205       ┆ 100       ┆ 20        ┆ 30        │\n",
      "│ 11      ┆ 3          ┆ 0.999473  ┆ 1.000176  ┆ … ┆ 200       ┆ 100       ┆ 20        ┆ 30        │\n",
      "│ 11      ┆ 13         ┆ 0.999473  ┆ 1.000326  ┆ … ┆ 200       ┆ 100       ┆ 20        ┆ 30        │\n",
      "│ 11      ┆ 18         ┆ 0.999473  ┆ 1.000025  ┆ … ┆ 200       ┆ 100       ┆ 20        ┆ 30        │\n",
      "│ 11      ┆ 28         ┆ 0.999473  ┆ 1.000326  ┆ … ┆ 200       ┆ 100       ┆ 20        ┆ 30        │\n",
      "└─────────┴────────────┴───────────┴───────────┴───┴───────────┴───────────┴───────────┴───────────┘\n",
      "2025-08-19 18:13:39,763 [INFO] Loading data for time_id\n",
      "2025-08-19 18:13:39,766 [INFO] Parquet is getting read\n",
      "2025-08-19 18:13:39,767 [INFO] shape: (5, 5)\n",
      "┌─────────┬───────────────────┬──────────┬──────┬─────────────┐\n",
      "│ time_id ┆ seconds_in_bucket ┆ price    ┆ size ┆ order_count │\n",
      "│ ---     ┆ ---               ┆ ---      ┆ ---  ┆ ---         │\n",
      "│ i16     ┆ i16               ┆ f32      ┆ i32  ┆ i16         │\n",
      "╞═════════╪═══════════════════╪══════════╪══════╪═════════════╡\n",
      "│ 11      ┆ 0                 ┆ 0.999824 ┆ 2    ┆ 2           │\n",
      "│ 11      ┆ 18                ┆ 0.999925 ┆ 1    ┆ 1           │\n",
      "│ 11      ┆ 28                ┆ 0.999925 ┆ 1    ┆ 1           │\n",
      "│ 11      ┆ 64                ┆ 0.999724 ┆ 1    ┆ 1           │\n",
      "│ 11      ┆ 75                ┆ 1.000025 ┆ 110  ┆ 2           │\n",
      "└─────────┴───────────────────┴──────────┴──────┴─────────────┘\n",
      "2025-08-19 18:13:39,768 [INFO] loaded book and trade data\n"
     ]
    },
    {
     "name": "stdout",
     "output_type": "stream",
     "text": [
      "data/raw/book_train.parquet/stock_id=0\n",
      "shape: (1,)\n",
      "Series: 'time_id' [i64]\n",
      "[\n",
      "\t11\n",
      "]\n",
      "data/raw/trade_train.parquet/stock_id=0\n",
      "[[ 2.          2.          0.99994534 ...  0.          0.\n",
      "   2.        ]\n",
      " [ 0.          0.          0.99994534 ...  1.          0.\n",
      "   2.        ]\n",
      " [ 0.          0.          0.99994534 ...  2.          0.\n",
      "   2.        ]\n",
      " ...\n",
      " [ 0.          0.          1.0003057  ... 15.          1.\n",
      "  11.        ]\n",
      " [ 0.          0.          1.0003057  ... 15.          1.\n",
      "   8.        ]\n",
      " [ 0.          0.          1.0003057  ... 15.          1.\n",
      "   8.        ]]\n"
     ]
    }
   ],
   "source": [
    "from pipeline.build import _fg_one\n",
    "feature_cols = feature_generator.training_sample.columns[1:]\n",
    "book_path = train_index.head()[0][\"book_path\"][0]\n",
    "trade_path = train_index.head()[0][\"trade_path\"][0]\n",
    "stock_id = train_index.head()[0][\"stock_id\"][0]\n",
    "time_id = train_index.head()[0][\"time_id\"]\n",
    "print(book_path)\n",
    "print(time_id)\n",
    "print(trade_path)\n",
    "print(_fg_one((book_path, trade_path, stock_id, time_id, feature_cols)))"
   ]
  }
 ],
 "metadata": {
  "kernelspec": {
   "display_name": "myenv",
   "language": "python",
   "name": "python3"
  },
  "language_info": {
   "codemirror_mode": {
    "name": "ipython",
    "version": 3
   },
   "file_extension": ".py",
   "mimetype": "text/x-python",
   "name": "python",
   "nbconvert_exporter": "python",
   "pygments_lexer": "ipython3",
   "version": "3.10.12"
  }
 },
 "nbformat": 4,
 "nbformat_minor": 5
}
